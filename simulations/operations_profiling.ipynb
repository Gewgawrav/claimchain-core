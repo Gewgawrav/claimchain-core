{
 "cells": [
  {
   "cell_type": "code",
   "execution_count": 1,
   "metadata": {},
   "outputs": [
    {
     "name": "stdout",
     "output_type": "stream",
     "text": [
      "Populating the interactive namespace from numpy and matplotlib\n"
     ]
    }
   ],
   "source": [
    "%pylab inline\n",
    "\n",
    "import os\n",
    "import sys\n",
    "import random\n",
    "import pstats\n",
    "\n",
    "from profile import Profile as PythonProfiler\n",
    "\n",
    "import pandas as pd\n",
    "import seaborn as sns\n",
    "import hippiehug\n",
    "\n",
    "from msgpack import packb\n",
    "\n",
    "sys.path.append('..')\n",
    "\n",
    "from claimchain import State, View, LocalParams\n",
    "from claimchain.core import encode_claim\n",
    "from claimchain.utils.profiling import Profiler, profiled\n",
    "\n",
    "sns.set_style(\"white\")"
   ]
  },
  {
   "cell_type": "markdown",
   "metadata": {},
   "source": [
    "## Generating test data\n",
    "\n",
    "This simulates `nb_readers` readers, each with own set of cryptographic keys. Every reader gets a random **32 byte** label associated with them, and **512 bytes** randomly generated claim about them.\n",
    "\n",
    "The random capability matrix is generated: for each of the target readers _t_, `nb_caps_per_reader` other readers are randomly chosen. These are the ones that the reader _t_ will be able to access claims about, i.e. be included in _t_'s capability list.\n",
    "\n"
   ]
  },
  {
   "cell_type": "code",
   "execution_count": 2,
   "metadata": {
    "collapsed": true
   },
   "outputs": [],
   "source": [
    "def generate_test_data(nb_readers=1000, nb_caps_per_reader=1, label_size=32, claim_size=512):\n",
    "    labels = [b'label_' + os.urandom(label_size - 6) for _ in range(nb_readers)]\n",
    "    claims = [b'claim_' + os.urandom(claim_size - 6) for _ in range(nb_readers)]\n",
    "\n",
    "    params = [LocalParams.generate() for _ in range(nb_readers)]\n",
    "\n",
    "    reader_graph = {}\n",
    "    for reader_index in range(nb_readers):\n",
    "        cap = random.sample(range(nb_readers), nb_caps_per_reader)\n",
    "        reader_graph[reader_index] = cap\n",
    "\n",
    "    return reader_graph, labels, claims, params"
   ]
  },
  {
   "cell_type": "markdown",
   "metadata": {},
   "source": [
    "## Simulating the owner\n",
    "The owner builds a state consisting of the claims generated above, with the access capabilities as generated above. The state is committed to the chain."
   ]
  },
  {
   "cell_type": "code",
   "execution_count": 3,
   "metadata": {
    "collapsed": true
   },
   "outputs": [],
   "source": [
    "def commit_claims(reader_graph, labels, claims, params):\n",
    "    owner_params = LocalParams.generate()\n",
    "    with owner_params.as_default():\n",
    "        state = State()\n",
    "        \n",
    "        # Add claims\n",
    "        for label, claim in zip(labels, claims):\n",
    "            state[label] = claim\n",
    "        \n",
    "        # Define the capability lists\n",
    "        for reader_index, cap_indexes in reader_graph.items():\n",
    "            reader_dh_pk = params[reader_index].dh.pk\n",
    "            cap_labels = [labels[cap_index] for cap_index in cap_indexes]\n",
    "            state.grant_access(reader_dh_pk, cap_labels)\n",
    "        \n",
    "        # Commit\n",
    "        chain = hippiehug.Chain()\n",
    "        state.commit(target_chain=chain)\n",
    "\n",
    "        return chain, state"
   ]
  },
  {
   "cell_type": "markdown",
   "metadata": {},
   "source": [
    "## Compute evidence\n",
    "\n",
    "Evidence of claim inclusion can be done either on the owner's side or on the client's side depending on the setting. We measure the size of evidence paths."
   ]
  },
  {
   "cell_type": "code",
   "execution_count": 4,
   "metadata": {
    "collapsed": true
   },
   "outputs": [],
   "source": [
    "@profiled\n",
    "def compute_single_evidence_path(tree, lookup_key):\n",
    "    root, evidence = tree.evidence(lookup_key)\n",
    "    assert evidence[-1].key == lookup_key\n",
    "    return evidence\n",
    "        \n",
    "def compute_random_evidences(state, nb_samples=200):\n",
    "    assert hasattr(state, '_enc_items_map')\n",
    "    tree = state._tree\n",
    "    evidence_map = {}\n",
    "    for lookup_key in random.sample(list(state._enc_items_map), nb_samples):\n",
    "        evidence_map[lookup_key] = \\\n",
    "                compute_single_evidence_path(tree, lookup_key)\n",
    "    return evidence_map\n",
    "\n",
    "def serialize_evidence(evidence):\n",
    "    result = []\n",
    "    for node in evidence:\n",
    "        if isinstance(node, hippiehug.Nodes.Leaf):\n",
    "            result += [(node.key, node.item)]\n",
    "        elif isinstance(node, hippiehug.Nodes.Branch):\n",
    "            result += [(node.pivot, node.left_branch, node.right_branch)]\n",
    "    return packb(result)"
   ]
  },
  {
   "cell_type": "markdown",
   "metadata": {},
   "source": [
    "## Simulating the readers"
   ]
  },
  {
   "cell_type": "code",
   "execution_count": 5,
   "metadata": {
    "collapsed": true
   },
   "outputs": [],
   "source": [
    "def read_claims(chain, reader_graph, labels, claims, params):\n",
    "    # Go over all of the readers\n",
    "    view = View(chain)\n",
    "    for reader_index, caps_indexes in reader_graph.items():\n",
    "        reader_params = params[reader_index]\n",
    "        with reader_params.as_default():\n",
    "            # Retrieve each of the accessible labels\n",
    "            for cap_index in caps_indexes:\n",
    "                label = labels[cap_index]\n",
    "                read_claim = view[labels[cap_index]]\n",
    "                \n",
    "                # Check the value matches original to be sure\n",
    "                assert read_claim == claims[cap_index]\n",
    "    return view"
   ]
  },
  {
   "cell_type": "markdown",
   "metadata": {},
   "source": [
    "## Storage measurements"
   ]
  },
  {
   "cell_type": "markdown",
   "metadata": {},
   "source": [
    "Sizes of claim sets to be simulated"
   ]
  },
  {
   "cell_type": "code",
   "execution_count": 6,
   "metadata": {},
   "outputs": [
    {
     "data": {
      "text/plain": [
       "[100, 600, 1100, 1600, 2100, 2600, 3100, 3600, 4100, 4600, 5100, 5600]"
      ]
     },
     "execution_count": 6,
     "metadata": {},
     "output_type": "execute_result"
    }
   ],
   "source": [
    "nb_claims_range = range(100, 6000, 500)\n",
    "list(nb_claims_range)"
   ]
  },
  {
   "cell_type": "code",
   "execution_count": 48,
   "metadata": {},
   "outputs": [],
   "source": [
    "evidence_length_data = pd.DataFrame(columns=('avg', 'std'))\n",
    "evidence_size_data = pd.DataFrame(columns=('avg', 'std'))\n",
    "evidence_timing_data = pd.DataFrame(columns=('avg', 'std'))\n",
    "store_snapshots = []\n",
    "\n",
    "for nb_claims in nb_claims_range:\n",
    "    reader_graph, labels, claims, params = generate_test_data(\n",
    "        nb_readers=nb_claims, nb_caps_per_reader=1)\n",
    "    \n",
    "    # Commit claims\n",
    "    chain, state = commit_claims(reader_graph, labels, claims, params)\n",
    "    # Compute evidence of inclusion for each claims\n",
    "    profiler = Profiler()\n",
    "    with profiler.as_default():\n",
    "        evidence_map = compute_random_evidences(state, nb_samples=200)\n",
    "        stats = profiler.compute_stats()['compute_single_evidence_path']\n",
    "        evidence_timing_data.loc[nb_claims] = (stats['avg'], stats['std'])\n",
    "    \n",
    "    evidence_lengths = np.array([len(evidence) for evidence in evidence_map.values()])\n",
    "    evidence_length_data.loc[nb_claims] = (evidence_lengths.mean(), evidence_lengths.std())\n",
    "\n",
    "    evidence_sizes = np.array([len(serialize_evidence(evidence)) for evidence in evidence_map.values()])\n",
    "    evidence_size_data.loc[nb_claims] = (evidence_sizes.mean(), evidence_sizes.std())\n",
    "    \n",
    "    store_snapshots.append(chain.store.copy())"
   ]
  },
  {
   "cell_type": "markdown",
   "metadata": {},
   "source": [
    "Evidence size"
   ]
  },
  {
   "cell_type": "code",
   "execution_count": 49,
   "metadata": {},
   "outputs": [
    {
     "data": {
      "image/png": "[encoded data removed]",
      "text/plain": [
       "<matplotlib.figure.Figure at 0x7f44e6404eb8>"
      ]
     },
     "metadata": {},
     "output_type": "display_data"
    }
   ],
   "source": [
    "fig, ax1 = plt.subplots()\n",
    "ax1.plot(nb_claims_range, evidence_length_data['avg'])\n",
    "ax1.fill_between(nb_claims_range,\n",
    "                 evidence_length_data['avg'] - evidence_length_data['std'],\n",
    "                 evidence_length_data['avg'] + evidence_length_data['std'],\n",
    "                 alpha=.2,\n",
    "                 label='1 st.dev.')\n",
    "constant = 2.1\n",
    "ax1.plot(nb_claims_range, constant * np.log(nb_claims_range),\n",
    "         color='black', alpha=.5, linestyle='--', label='%1.1f · log(n)' % constant)\n",
    "ax1.set_xlabel('Number of claim-capability pairs')\n",
    "ax1.set_ylabel('Single item incl. evidence length, nodes')\n",
    "ax1.legend()\n",
    "\n",
    "ax2 = ax1.twinx()\n",
    "\n",
    "# Plots happen to almost coincide on this scale, so setting alpha to zero.\n",
    "# Only plotting the invisible lines to show the right (bytes) scale.\n",
    "ax2.plot(nb_claims_range, evidence_size_data['avg'],\n",
    "         color='red', alpha=0)\n",
    "ax2.fill_between(nb_claims_range,\n",
    "                 evidence_size_data['avg'] - evidence_size_data['std'],\n",
    "                 evidence_size_data['avg'] + evidence_size_data['std'],\n",
    "                 color='red', alpha=0)\n",
    "ax2.set_ylabel('Single item incl. evidence size, bytes')\n",
    "plt.xlim(100, 5600)\n",
    "\n",
    "fig.tight_layout()\n",
    "\n",
    "plt.savefig('evidence_plot.pdf')"
   ]
  },
  {
   "cell_type": "markdown",
   "metadata": {},
   "source": [
    "Evidence timing"
   ]
  },
  {
   "cell_type": "code",
   "execution_count": 70,
   "metadata": {},
   "outputs": [
    {
     "data": {
      "image/png": "[encoded data removed]",
      "text/plain": [
       "<matplotlib.figure.Figure at 0x7f44efca0940>"
      ]
     },
     "metadata": {},
     "output_type": "display_data"
    }
   ],
   "source": [
    "evidence_timing_data_ms = evidence_timing_data * 10e+6\n",
    "plt.plot(nb_claims_range, evidence_timing_data_ms['avg'])\n",
    "plt.fill_between(nb_claims_range,\n",
    "                 evidence_timing_data_ms['avg'] - evidence_timing_data_ms['std'],\n",
    "                 evidence_timing_data_ms['avg'] + evidence_timing_data_ms['std'],\n",
    "                 alpha=.2,\n",
    "                 label='1 st.dev.')\n",
    "\n",
    "plt.legend()\n",
    "plt.xlabel('Number of claim-capability pairs')\n",
    "plt.xlim(100, 5600)\n",
    "plt.ylabel('Computing single item incl. evidence, microseconds')\n",
    "\n",
    "plt.savefig('evidence_timing.pdf')"
   ]
  },
  {
   "cell_type": "code",
   "execution_count": null,
   "metadata": {},
   "outputs": [],
   "source": [
    "build_tree_timing_data = pd.DataFrame(columns=['avg', 'std'])\n",
    "store_snapshots_1 = []\n",
    "\n",
    "for nb_claims in nb_claims_range:\n",
    "    print(nb_claims)\n",
    "    # Commit claims\n",
    "    profiler = Profiler()\n",
    "    reader_graph, labels, claims, params = generate_test_data(\n",
    "        nb_readers=nb_claims, nb_caps_per_reader=1)\n",
    "    stats_per_iteration = []\n",
    "    for n in range(20):\n",
    "        with profiler.as_default():\n",
    "            chain, state = commit_claims(reader_graph, labels, claims, params)\n",
    "            stats = profiler.compute_stats()\n",
    "            stats_per_iteration.append(stats)\n",
    "    timings = np.array([stats['_build_tree']['avg'] for stats in stats_per_iteration])\n",
    "    build_tree_timing_data.loc[nb_claims] = (np.mean(timings), np.std(timings))\n",
    "    \n",
    "    store_snapshots_1.append(chain.store.copy())"
   ]
  },
  {
   "cell_type": "code",
   "execution_count": 64,
   "metadata": {},
   "outputs": [
    {
     "data": {
      "image/png": "[encoded data removed]",
      "text/plain": [
       "<matplotlib.figure.Figure at 0x7f44ef61fcf8>"
      ]
     },
     "metadata": {},
     "output_type": "display_data"
    }
   ],
   "source": [
    "plt.plot(nb_claims_range, build_tree_timing_data['avg'])\n",
    "plt.fill_between(nb_claims_range,\n",
    "                 build_tree_timing_data['avg'] - build_tree_timing_data['std'],\n",
    "                 build_tree_timing_data['avg'] + build_tree_timing_data['std'],\n",
    "                 alpha=.2)\n",
    "\n",
    "plt.xlabel('Number of claim-capability pairs')\n",
    "plt.xlim(100, 5600)\n",
    "plt.ylabel('Building tree, seconds')\n",
    "\n",
    "plt.savefig('tree_build_timing.pdf')"
   ]
  },
  {
   "cell_type": "code",
   "execution_count": 123,
   "metadata": {},
   "outputs": [],
   "source": [
    "def pack_store_objects(store, pack_blocks=True, pack_blobs=True, pack_trees=True):\n",
    "    result = []\n",
    "    for node in store:\n",
    "        if isinstance(node, hippiehug.Nodes.Leaf):\n",
    "            if pack_trees:\n",
    "                result += [(node.key, node.item)]\n",
    "        elif isinstance(node, hippiehug.Nodes.Branch):\n",
    "            if pack_trees:\n",
    "                result += [(node.pivot, node.left_branch, node.right_branch)]\n",
    "        elif isinstance(node, hippiehug.Block):\n",
    "            if pack_blocks:\n",
    "                result += [(node.index, node.fingers, node.items, node.aux)]\n",
    "        elif pack_blobs:\n",
    "            result += node.hid\n",
    "    return packb(result)\n",
    "\n",
    "def pack(store, only_keys=False, **kwargs):\n",
    "    keys = packb(list(store.keys()))\n",
    "    if not only_keys:\n",
    "        values = pack_store_objects(list(store.values()), **kwargs)\n",
    "        return keys + values\n",
    "    else:\n",
    "        return keys\n",
    "\n",
    "current_store_snapshots = store_snapshots\n",
    "full_snapshot_sizes = np.array([len(pack(snapshot))\n",
    "                                for snapshot in current_store_snapshots])\n",
    "tree_overhead = np.array([len(pack(snapshot, pack_blocks=False, pack_blobs=False))\n",
    "                          for snapshot in current_store_snapshots])\n",
    "keys_overhead = np.array([len(pack(snapshot, pack_trees=False, pack_blobs=False, pack_blocks=False, only_keys=True))\n",
    "                           for snapshot in current_store_snapshots])"
   ]
  },
  {
   "cell_type": "code",
   "execution_count": 125,
   "metadata": {
    "scrolled": true
   },
   "outputs": [
    {
     "data": {
      "text/html": [
       "<div>\n",
       "<style>\n",
       "    .dataframe thead tr:only-child th {\n",
       "        text-align: right;\n",
       "    }\n",
       "\n",
       "    .dataframe thead th {\n",
       "        text-align: left;\n",
       "    }\n",
       "\n",
       "    .dataframe tbody tr th {\n",
       "        vertical-align: top;\n",
       "    }\n",
       "</style>\n",
       "<table border=\"1\" class=\"dataframe\">\n",
       "  <thead>\n",
       "    <tr style=\"text-align: right;\">\n",
       "      <th></th>\n",
       "      <th>all</th>\n",
       "      <th>keys</th>\n",
       "      <th>tree</th>\n",
       "    </tr>\n",
       "  </thead>\n",
       "  <tbody>\n",
       "    <tr>\n",
       "      <th>100</th>\n",
       "      <td>257595</td>\n",
       "      <td>82358</td>\n",
       "      <td>247521</td>\n",
       "    </tr>\n",
       "    <tr>\n",
       "      <th>600</th>\n",
       "      <td>1814448</td>\n",
       "      <td>576523</td>\n",
       "      <td>1756206</td>\n",
       "    </tr>\n",
       "    <tr>\n",
       "      <th>1100</th>\n",
       "      <td>3660644</td>\n",
       "      <td>1158923</td>\n",
       "      <td>3554806</td>\n",
       "    </tr>\n",
       "    <tr>\n",
       "      <th>1600</th>\n",
       "      <td>5543348</td>\n",
       "      <td>1752208</td>\n",
       "      <td>5389171</td>\n",
       "    </tr>\n",
       "    <tr>\n",
       "      <th>2100</th>\n",
       "      <td>7902462</td>\n",
       "      <td>2490605</td>\n",
       "      <td>7700330</td>\n",
       "    </tr>\n",
       "    <tr>\n",
       "      <th>2600</th>\n",
       "      <td>9493418</td>\n",
       "      <td>2995270</td>\n",
       "      <td>9243515</td>\n",
       "    </tr>\n",
       "    <tr>\n",
       "      <th>3100</th>\n",
       "      <td>12143721</td>\n",
       "      <td>3822250</td>\n",
       "      <td>11845735</td>\n",
       "    </tr>\n",
       "    <tr>\n",
       "      <th>3600</th>\n",
       "      <td>14392892</td>\n",
       "      <td>4527150</td>\n",
       "      <td>14046835</td>\n",
       "    </tr>\n",
       "    <tr>\n",
       "      <th>4100</th>\n",
       "      <td>15961955</td>\n",
       "      <td>5025200</td>\n",
       "      <td>15568285</td>\n",
       "    </tr>\n",
       "    <tr>\n",
       "      <th>4600</th>\n",
       "      <td>19333106</td>\n",
       "      <td>6071700</td>\n",
       "      <td>18891785</td>\n",
       "    </tr>\n",
       "    <tr>\n",
       "      <th>5100</th>\n",
       "      <td>20644883</td>\n",
       "      <td>6491105</td>\n",
       "      <td>20154830</td>\n",
       "    </tr>\n",
       "    <tr>\n",
       "      <th>5600</th>\n",
       "      <td>22817847</td>\n",
       "      <td>7172870</td>\n",
       "      <td>22279915</td>\n",
       "    </tr>\n",
       "  </tbody>\n",
       "</table>\n",
       "</div>"
      ],
      "text/plain": [
       "           all     keys      tree\n",
       "100     257595    82358    247521\n",
       "600    1814448   576523   1756206\n",
       "1100   3660644  1158923   3554806\n",
       "1600   5543348  1752208   5389171\n",
       "2100   7902462  2490605   7700330\n",
       "2600   9493418  2995270   9243515\n",
       "3100  12143721  3822250  11845735\n",
       "3600  14392892  4527150  14046835\n",
       "4100  15961955  5025200  15568285\n",
       "4600  19333106  6071700  18891785\n",
       "5100  20644883  6491105  20154830\n",
       "5600  22817847  7172870  22279915"
      ]
     },
     "execution_count": 125,
     "metadata": {},
     "output_type": "execute_result"
    }
   ],
   "source": [
    "sizes_data = pd.DataFrame({\n",
    "    'all': full_snapshot_sizes,\n",
    "    'tree': tree_overhead,\n",
    "    'keys': keys_overhead}, index=nb_claims_range)\n",
    "sizes_data"
   ]
  },
  {
   "cell_type": "code",
   "execution_count": 126,
   "metadata": {},
   "outputs": [
    {
     "data": {
      "image/png": "[encoded data removed]",
      "text/plain": [
       "<matplotlib.figure.Figure at 0x7f44e95dbf98>"
      ]
     },
     "metadata": {},
     "output_type": "display_data"
    }
   ],
   "source": [
    "unit = 1 / (1024. * 1024.)\n",
    "plt.fill_between(nb_claims_range, 0, full_snapshot_sizes * unit, label='Full storage size')\n",
    "plt.fill_between(nb_claims_range, 0, tree_overhead * unit, label='Tree nodes overhead')\n",
    "plt.fill_between(nb_claims_range, 0, keys_overhead * unit, label='Lookup keys')\n",
    "plt.legend()\n",
    "plt.xlim(100, 5600)\n",
    "plt.ylim(0, 25)\n",
    "plt.xlabel('Number of claim-capability pairs')\n",
    "plt.ylabel('Size, Mb')\n",
    "plt.savefig('tree_size.pdf')"
   ]
  },
  {
   "cell_type": "code",
   "execution_count": 127,
   "metadata": {},
   "outputs": [
    {
     "data": {
      "text/plain": [
       "484"
      ]
     },
     "execution_count": 127,
     "metadata": {},
     "output_type": "execute_result"
    }
   ],
   "source": [
    "block = chain.store[chain.head]\n",
    "len(packb((block.index, block.items, block.fingers, block.aux)))"
   ]
  },
  {
   "cell_type": "markdown",
   "metadata": {},
   "source": [
    "## Timing core operations"
   ]
  },
  {
   "cell_type": "code",
   "execution_count": 134,
   "metadata": {
    "collapsed": true
   },
   "outputs": [],
   "source": [
    "def simulate():\n",
    "    reader_graph, labels, claims, params = generate_test_data()\n",
    "\n",
    "    # Commit claims\n",
    "    chain, state = commit_claims(reader_graph, labels, claims, params)\n",
    "    # Simulate readers\n",
    "    view = read_claims(chain, reader_graph, labels, claims, params)\n",
    "    # Compute evidence of inclusion for each claim\n",
    "    evidence_map = compute_random_evidences(state, 2000)"
   ]
  },
  {
   "cell_type": "markdown",
   "metadata": {},
   "source": [
    "### High-level profiling"
   ]
  },
  {
   "cell_type": "code",
   "execution_count": 135,
   "metadata": {},
   "outputs": [],
   "source": [
    "profiler = Profiler()\n",
    "with profiler.as_default():\n",
    "    simulate()\n",
    "    stats = profiler.compute_stats()"
   ]
  },
  {
   "cell_type": "code",
   "execution_count": 136,
   "metadata": {},
   "outputs": [
    {
     "data": {
      "text/html": [
       "<div>\n",
       "<style>\n",
       "    .dataframe thead tr:only-child th {\n",
       "        text-align: right;\n",
       "    }\n",
       "\n",
       "    .dataframe thead th {\n",
       "        text-align: left;\n",
       "    }\n",
       "\n",
       "    .dataframe tbody tr th {\n",
       "        vertical-align: top;\n",
       "    }\n",
       "</style>\n",
       "<table border=\"1\" class=\"dataframe\">\n",
       "  <thead>\n",
       "    <tr style=\"text-align: right;\">\n",
       "      <th></th>\n",
       "      <th>avg</th>\n",
       "      <th>max</th>\n",
       "      <th>min</th>\n",
       "      <th>std</th>\n",
       "    </tr>\n",
       "  </thead>\n",
       "  <tbody>\n",
       "    <tr>\n",
       "      <th>_build_tree</th>\n",
       "      <td>150.65</td>\n",
       "      <td>150.65</td>\n",
       "      <td>150.65</td>\n",
       "      <td>NaN</td>\n",
       "    </tr>\n",
       "    <tr>\n",
       "      <th>compute_single_evidence_path</th>\n",
       "      <td>0.01</td>\n",
       "      <td>0.18</td>\n",
       "      <td>0.01</td>\n",
       "      <td>0.01</td>\n",
       "    </tr>\n",
       "    <tr>\n",
       "      <th>compute_vrf</th>\n",
       "      <td>1.46</td>\n",
       "      <td>2.20</td>\n",
       "      <td>1.07</td>\n",
       "      <td>0.16</td>\n",
       "    </tr>\n",
       "    <tr>\n",
       "      <th>decode_capability</th>\n",
       "      <td>0.14</td>\n",
       "      <td>0.63</td>\n",
       "      <td>0.13</td>\n",
       "      <td>0.02</td>\n",
       "    </tr>\n",
       "    <tr>\n",
       "      <th>decode_claim</th>\n",
       "      <td>2.48</td>\n",
       "      <td>4.93</td>\n",
       "      <td>1.95</td>\n",
       "      <td>0.29</td>\n",
       "    </tr>\n",
       "    <tr>\n",
       "      <th>encode_capability</th>\n",
       "      <td>0.14</td>\n",
       "      <td>0.18</td>\n",
       "      <td>0.13</td>\n",
       "      <td>0.00</td>\n",
       "    </tr>\n",
       "    <tr>\n",
       "      <th>encode_claim</th>\n",
       "      <td>1.51</td>\n",
       "      <td>2.26</td>\n",
       "      <td>1.12</td>\n",
       "      <td>0.16</td>\n",
       "    </tr>\n",
       "    <tr>\n",
       "      <th>get_capability_lookup_key</th>\n",
       "      <td>0.12</td>\n",
       "      <td>0.55</td>\n",
       "      <td>0.12</td>\n",
       "      <td>0.02</td>\n",
       "    </tr>\n",
       "    <tr>\n",
       "      <th>verify_vrf</th>\n",
       "      <td>2.44</td>\n",
       "      <td>4.87</td>\n",
       "      <td>1.91</td>\n",
       "      <td>0.29</td>\n",
       "    </tr>\n",
       "  </tbody>\n",
       "</table>\n",
       "</div>"
      ],
      "text/plain": [
       "                                 avg     max     min   std\n",
       "_build_tree                   150.65  150.65  150.65   NaN\n",
       "compute_single_evidence_path    0.01    0.18    0.01  0.01\n",
       "compute_vrf                     1.46    2.20    1.07  0.16\n",
       "decode_capability               0.14    0.63    0.13  0.02\n",
       "decode_claim                    2.48    4.93    1.95  0.29\n",
       "encode_capability               0.14    0.18    0.13  0.00\n",
       "encode_claim                    1.51    2.26    1.12  0.16\n",
       "get_capability_lookup_key       0.12    0.55    0.12  0.02\n",
       "verify_vrf                      2.44    4.87    1.91  0.29"
      ]
     },
     "execution_count": 136,
     "metadata": {},
     "output_type": "execute_result"
    }
   ],
   "source": [
    "df = pd.DataFrame(stats)\n",
    "df = df.T\n",
    "stat_cols = ['avg', 'max', 'min', 'std']\n",
    "df = df[stat_cols].apply(lambda value: value * 1000)  # milliseconds\n",
    "df = df.round(2)\n",
    "df"
   ]
  },
  {
   "cell_type": "code",
   "execution_count": 139,
   "metadata": {
    "scrolled": false
   },
   "outputs": [
    {
     "name": "stdout",
     "output_type": "stream",
     "text": [
      "\\begin{tabular}{lrr}\n",
      "\\toprule\n",
      "{} &  avg (ms) &   std \\\\\n",
      "\\midrule\n",
      "Single entry inclusion proof computation   &      0.01 &  0.01 \\\\\n",
      "Single-label capab. lookup key computation &      0.12 &  0.02 \\\\\n",
      "Single-label capab. decoding               &      0.14 &  0.02 \\\\\n",
      "Single-label capab. encoding               &      0.14 &  0.00 \\\\\n",
      "VRF computation                            &      1.46 &  0.16 \\\\\n",
      "Claim encoding                             &      1.51 &  0.16 \\\\\n",
      "VRF verification                           &      2.44 &  0.29 \\\\\n",
      "Claim decoding                             &      2.48 &  0.29 \\\\\n",
      "Tree construction                          &    150.65 &   NaN \\\\\n",
      "\\bottomrule\n",
      "\\end{tabular}\n",
      "\n"
     ]
    }
   ],
   "source": [
    "pretty_df = df[['avg', 'std']].sort_index()\n",
    "readable_procedure_names = {\n",
    "    '_build_tree': 'Tree construction',\n",
    "    'compute_single_evidence_path': 'Single entry inclusion proof computation',\n",
    "    'compute_vrf': 'VRF computation',\n",
    "    'decode_capability': 'Single-label capab. decoding',\n",
    "    'decode_claim': 'Claim decoding',\n",
    "    'encode_capability': 'Single-label capab. encoding',\n",
    "    'encode_claim': 'Claim encoding',\n",
    "    'get_capability_lookup_key': 'Single-label capab. lookup key computation',\n",
    "    'verify_vrf': 'VRF verification',\n",
    "}\n",
    "pretty_df.index = [readable_procedure_names[func_name] for func_name in pretty_df.index]\n",
    "pretty_df.sort_values(by='avg', inplace=True)\n",
    "pretty_df.columns = ['avg (ms)', 'std']\n",
    "print(pretty_df.to_latex())"
   ]
  },
  {
   "cell_type": "markdown",
   "metadata": {},
   "source": [
    "### Low-level profiling"
   ]
  },
  {
   "cell_type": "code",
   "execution_count": 140,
   "metadata": {},
   "outputs": [
    {
     "name": "stdout",
     "output_type": "stream",
     "text": [
      "         2105956 function calls (1950842 primitive calls) in 9.392 seconds\n",
      "\n",
      "   Ordered by: cumulative time\n",
      "\n",
      "   ncalls  tottime  percall  cumtime  percall filename:lineno(function)\n",
      "        1    0.000    0.000    9.392    9.392 profile:0(simulate())\n",
      "        1    0.000    0.000    9.392    9.392 :0(exec)\n",
      "        1    0.014    0.014    9.392    9.392 <string>:1(<module>)\n",
      "        1    0.000    0.000    9.360    9.360 <ipython-input-134-92a6c275a10b>:1(simulate)\n",
      "9001/7001    0.076    0.000    8.327    0.001 profiling.py:34(wrapped)\n",
      "        1    0.015    0.015    4.631    4.631 <ipython-input-5-55663c6fc6b2>:1(read_claims)\n",
      "     1000    0.006    0.000    4.577    0.005 state.py:195(__getitem__)\n",
      "        1    0.004    0.004    3.887    3.887 <ipython-input-3-0f817e10bcb5>:1(commit_claims)\n",
      "        1    0.007    0.007    3.842    3.842 state.py:70(commit)\n",
      "     1000    0.008    0.000    3.775    0.004 state.py:185(_lookup_claim)\n",
      "     1000    0.027    0.000    3.624    0.004 core.py:68(decode_claim)\n",
      "     1000    0.058    0.000    3.354    0.003 vrf.py:37(verify_vrf)\n",
      "     1000    0.022    0.000    2.476    0.002 core.py:49(encode_claim)\n",
      "     2000    0.065    0.000    2.436    0.001 ec.py:195(hash_to_point)\n",
      "     1000    0.053    0.000    2.213    0.002 vrf.py:18(compute_vrf)\n",
      "     3919    2.104    0.001    2.104    0.001 :0(EC_POINT_set_compressed_coordinates_GFp)\n",
      "44935/39931    0.221    0.000    1.852    0.000 bn.py:27(new_f)\n",
      "    14004    0.073    0.000    1.350    0.000 ec.py:386(__rmul__)\n",
      "    14004    1.203    0.000    1.203    0.000 :0(EC_POINT_mul)\n",
      "     1004    0.008    0.000    1.023    0.001 ec.py:245(from_binary)\n",
      "     1004    1.008    0.001    1.008    0.001 :0(EC_POINT_oct2point)\n",
      "        1    0.008    0.008    0.970    0.970 state.py:47(_build_tree)\n",
      "     2000    0.025    0.000    0.962    0.000 wrappers.py:85(__setitem__)\n",
      "     6005    0.027    0.000    0.923    0.000 pack.py:113(encode)\n",
      "18013/6009    0.078    0.000    0.889    0.000 __init__.py:41(packb)\n",
      "18013/6009    0.076    0.000    0.856    0.000 :0(pack)\n",
      "    14006    0.156    0.000    0.800    0.000 pack.py:40(default)\n",
      "     1000    0.012    0.000    0.796    0.001 state.py:172(_lookup_capability)\n",
      "        1    0.002    0.002    0.628    0.628 <ipython-input-2-2c487798920b>:1(generate_test_data)\n",
      "     2000    0.013    0.000    0.556    0.000 Tree.py:29(add)\n",
      "        1    0.001    0.001    0.545    0.545 <ipython-input-2-2c487798920b>:5(<listcomp>)\n",
      "     1001    0.007    0.000    0.544    0.001 params.py:46(generate)\n",
      "     4004    0.041    0.000    0.536    0.000 params.py:30(generate)\n",
      "24402/1998    0.188    0.000    0.527    0.000 Nodes.py:109(add)\n",
      "     6000    0.025    0.000    0.516    0.000 Tree.py:152(evidence)\n",
      "83291/5999    0.265    0.000    0.474    0.000 Nodes.py:236(evidence)\n",
      "   146093    0.250    0.000    0.374    0.000 wrappers.py:31(__getitem__)\n",
      "     1000    0.023    0.000    0.373    0.000 core.py:108(decode_capability)\n",
      "    20004    0.143    0.000    0.372    0.000 ec.py:431(export)\n",
      "     1000    0.019    0.000    0.352    0.000 core.py:90(encode_capability)\n",
      "    33010    0.130    0.000    0.263    0.000 wrappers.py:10(get_default)\n",
      "     2000    0.015    0.000    0.247    0.000 wrappers.py:76(__getitem__)\n",
      "     1000    0.021    0.000    0.240    0.000 core.py:37(get_capability_lookup_key)\n",
      "     2000    0.019    0.000    0.223    0.000 cipher.py:196(quick_gcm_dec)\n",
      "     4000    0.055    0.000    0.220    0.000 core.py:18(_compute_capability_key)\n",
      "        1    0.004    0.004    0.215    0.215 <ipython-input-4-acd859c64e6b>:7(compute_random_evidences)\n",
      "     2000    0.017    0.000    0.202    0.000 cipher.py:163(quick_gcm_enc)\n",
      "    40008    0.197    0.000    0.197    0.000 :0(EC_POINT_point2oct)\n",
      "    42405    0.086    0.000    0.188    0.000 Utils.py:9(binary_hash)\n",
      "   200943    0.171    0.000    0.179    0.000 :0(isinstance)\n",
      "     4000    0.068    0.000    0.178    0.000 cipher.py:76(op)\n",
      "     2000    0.009    0.000    0.175    0.000 Tree.py:75(is_in)\n",
      "     2000    0.004    0.000    0.168    0.000 <ipython-input-4-acd859c64e6b>:1(compute_single_evidence_path)\n",
      "    26401    0.056    0.000    0.165    0.000 Nodes.py:92(__init__)\n",
      "     2000    0.004    0.000    0.164    0.000 wrappers.py:103(evidence)\n",
      "   176494    0.130    0.000    0.160    0.000 wrappers.py:13(_check_hash)\n",
      "26401/1999    0.073    0.000    0.150    0.000 Nodes.py:176(is_in)\n",
      "    14006    0.068    0.000    0.126    0.000 __init__.py:10(__new__)\n",
      "     5000    0.035    0.000    0.113    0.000 core.py:10(_compute_claim_key)\n",
      "     4919    0.030    0.000    0.106    0.000 bn.py:643(__mod__)\n",
      "     4000    0.056    0.000    0.102    0.000 cipher.py:232(update)\n",
      "     2000    0.005    0.000    0.101    0.000 cipher.py:131(dec)\n",
      "    30401    0.055    0.000    0.091    0.000 wrappers.py:36(__setitem__)\n",
      "     4005    0.020    0.000    0.087    0.000 pack.py:119(decode)\n",
      "     2000    0.005    0.000    0.086    0.000 cipher.py:120(enc)\n",
      "   105901    0.086    0.000    0.086    0.000 :0(len)\n",
      "     2002    0.020    0.000    0.085    0.000 bn.py:326(binary)\n",
      "    31000    0.054    0.000    0.085    0.000 encodings.py:6(ensure_binary)\n",
      "    62326    0.084    0.000    0.084    0.000 :0(digest)\n",
      "    29852    0.049    0.000    0.083    0.000 bn.py:201(__init__)\n",
      "    58407    0.083    0.000    0.083    0.000 :0(openssl_sha256)\n",
      "     7921    0.034    0.000    0.077    0.000 bn.py:162(from_binary)\n",
      "    60017    0.063    0.000    0.076    0.000 :0(hasattr)\n",
      "    33010    0.053    0.000    0.073    0.000 stack.py:222(get_default)\n",
      "    36000    0.050    0.000    0.073    0.000 cipher.py:6(_check)\n",
      "     5004    0.021    0.000    0.068    0.000 bn.py:344(random)\n",
      "    27933    0.040    0.000    0.067    0.000 bn.py:239(__del__)\n",
      "     2000    0.019    0.000    0.066    0.000 ec.py:289(__add__)\n",
      "    40008    0.064    0.000    0.064    0.000 :0(new)\n",
      "     4000    0.031    0.000    0.064    0.000 cipher.py:245(finalize)\n",
      "4009/4005    0.025    0.000    0.062    0.000 :0(unpackb)\n",
      "    19008    0.034    0.000    0.060    0.000 ec.py:262(__init__)\n",
      "    22846    0.040    0.000    0.058    0.000 bn.py:51(_check)\n",
      "     4004    0.010    0.000    0.056    0.000 bn.py:251(__lt__)\n",
      "    25020    0.039    0.000    0.056    0.000 ec.py:24(_check)\n",
      "     8000    0.013    0.000    0.055    0.000 wrappers.py:8(hid)\n",
      "     1001    0.015    0.000    0.053    0.000 random.py:280(sample)\n",
      "     1999    0.016    0.000    0.052    0.000 Nodes.py:27(add)\n",
      "    19008    0.028    0.000    0.050    0.000 ec.py:424(__del__)\n",
      "     2001    0.045    0.000    0.045    0.000 :0(urandom)\n",
      "     2000    0.017    0.000    0.042    0.000 ec.py:71(parameters)\n",
      "     5919    0.020    0.000    0.042    0.000 bn.py:70(__init__)\n",
      "        1    0.001    0.001    0.042    0.042 <ipython-input-2-2c487798920b>:3(<listcomp>)\n",
      "     1000    0.004    0.000    0.039    0.000 state.py:135(grant_access)\n",
      "    14006    0.023    0.000    0.038    0.000 <string>:12(__new__)\n",
      "     5004    0.019    0.000    0.038    0.000 bn.py:243(__inner_cmp__)\n",
      "     2006    0.010    0.000    0.037    0.000 pack.py:78(ext_hook)\n",
      "    12004    0.022    0.000    0.037    0.000 ec.py:173(nid)\n",
      "     2000    0.004    0.000    0.034    0.000 ec.py:428(__hash__)\n",
      "    29852    0.034    0.000    0.034    0.000 :0(BN_new)\n",
      "     4000    0.014    0.000    0.032    0.000 cipher.py:338(__del__)\n",
      "    27935    0.027    0.000    0.027    0.000 :0(BN_clear_free)\n",
      "     4000    0.009    0.000    0.026    0.000 Nodes.py:8(__init__)\n",
      "    19008    0.026    0.000    0.026    0.000 :0(EC_POINT_new)\n",
      "     4000    0.012    0.000    0.023    0.000 cipher.py:226(__init__)\n",
      "     2000    0.012    0.000    0.022    0.000 cipher.py:296(get_tag)\n",
      "    19008    0.022    0.000    0.022    0.000 :0(EC_POINT_clear_free)\n",
      "     5004    0.022    0.000    0.022    0.000 :0(BN_rand_range)\n",
      "     3000    0.013    0.000    0.022    0.000 random.py:220(_randbelow)\n",
      "    16000    0.021    0.000    0.021    0.000 :0(EVP_CIPHER_CTX_ctrl)\n",
      "     1000    0.006    0.000    0.020    0.000 bn.py:452(__mul__)\n",
      "     5919    0.011    0.000    0.019    0.000 bn.py:75(__del__)\n",
      "     2000    0.005    0.000    0.018    0.000 Nodes.py:69(is_in)\n",
      "     1000    0.003    0.000    0.018    0.000 bn.py:259(__eq__)\n",
      "     8000    0.017    0.000    0.017    0.000 :0(EVP_CipherInit_ex)\n",
      "     4919    0.017    0.000    0.017    0.000 :0(BN_nnmod)\n",
      "    24402    0.016    0.000    0.016    0.000 Nodes.py:84(_check_hash)\n",
      "     2000    0.007    0.000    0.016    0.000 ec.py:181(check_point)\n",
      "     2000    0.015    0.000    0.015    0.000 :0(EC_POINT_add)\n",
      "     2000    0.007    0.000    0.015    0.000 cipher.py:320(set_tag)\n",
      "    14006    0.015    0.000    0.015    0.000 :0(__new__)\n",
      "    12004    0.015    0.000    0.015    0.000 :0(EC_GROUP_get_curve_name)\n",
      "     2000    0.007    0.000    0.014    0.000 core.py:31(_salt_label)\n",
      "     1001    0.003    0.000    0.014    0.000 wrappers.py:7(as_default)\n",
      "     2000    0.005    0.000    0.013    0.000 ec.py:163(__eq__)\n",
      "     2002    0.004    0.000    0.013    0.000 :0(next)\n",
      "     1001    0.005    0.000    0.012    0.000 contextlib.py:63(__exit__)\n",
      "     7921    0.012    0.000    0.012    0.000 :0(BN_bin2bn)\n",
      "     1001    0.003    0.000    0.012    0.000 wrappers.py:31(set_default)\n",
      "     1000    0.004    0.000    0.011    0.000 bn.py:423(__sub__)\n",
      "     8000    0.009    0.000    0.009    0.000 cipher.py:69(len_block)\n",
      "     4000    0.009    0.000    0.009    0.000 :0(EVP_CipherUpdate)\n",
      "     9000    0.009    0.000    0.009    0.000 :0(encode)\n",
      "     2000    0.009    0.000    0.009    0.000 :0(EC_POINT_is_on_curve)\n",
      "     1001    0.003    0.000    0.009    0.000 contextlib.py:131(helper)\n",
      "     2002    0.006    0.000    0.008    0.000 stack.py:228(get_context_manager)\n",
      "     2002    0.006    0.000    0.008    0.000 abc.py:178(__instancecheck__)\n",
      "     5919    0.008    0.000    0.008    0.000 :0(BN_CTX_free)\n",
      "     2000    0.008    0.000    0.008    0.000 :0(EC_GROUP_cmp)\n",
      "     3919    0.008    0.000    0.008    0.000 :0(openssl_sha512)\n",
      "     4000    0.007    0.000    0.007    0.000 cipher.py:66(len_key)\n",
      "     4000    0.007    0.000    0.007    0.000 :0(EVP_CipherFinal_ex)\n",
      "     6004    0.007    0.000    0.007    0.000 ec.py:88(generator)\n",
      "     6005    0.007    0.000    0.007    0.000 pack.py:66(make_encoder)\n",
      "     1001    0.002    0.000    0.007    0.000 contextlib.py:57(__enter__)\n",
      "     5004    0.006    0.000    0.006    0.000 :0(BN_cmp)\n",
      "        1    0.000    0.000    0.006    0.006 state.py:146(__init__)\n",
      "     5919    0.006    0.000    0.006    0.000 :0(BN_CTX_new)\n",
      "     4000    0.006    0.000    0.006    0.000 :0(EVP_CIPHER_CTX_new)\n",
      "     6000    0.006    0.000    0.006    0.000 Nodes.py:81(evidence)\n",
      "     4000    0.006    0.000    0.006    0.000 :0(EVP_CIPHER_CTX_cleanup)\n",
      "        9    0.000    0.000    0.005    0.001 encodings.py:45(ascii2pet)\n",
      "     6004    0.005    0.000    0.005    0.000 ec.py:114(order)\n",
      "     4005    0.005    0.000    0.005    0.000 pack.py:101(make_decoder)\n",
      "     1001    0.004    0.000    0.005    0.000 contextlib.py:37(__init__)\n",
      "        1    0.001    0.001    0.005    0.005 <ipython-input-2-2c487798920b>:2(<listcomp>)\n",
      "        1    0.000    0.000    0.005    0.005 params.py:62(from_dict)\n",
      "        4    0.000    0.000    0.005    0.001 params.py:70(maybe_load_keypair)\n",
      "        8    0.000    0.000    0.005    0.001 params.py:64(maybe_decode)\n",
      "     3770    0.005    0.000    0.005    0.000 :0(getrandbits)\n",
      "     4000    0.004    0.000    0.004    0.000 :0(EVP_CIPHER_CTX_free)\n",
      "     4000    0.004    0.000    0.004    0.000 :0(EVP_CIPHER_CTX_init)\n",
      "     2000    0.004    0.000    0.004    0.000 :0(EC_GROUP_get_curve_GFp)\n",
      "     3000    0.004    0.000    0.004    0.000 :0(bit_length)\n",
      "     4008    0.004    0.000    0.004    0.000 <attrs generated init 95fa4d2d4092d7e0e713430edfe81a722115f1a7>:1(__init__)\n",
      "     2000    0.003    0.000    0.003    0.000 <attrs generated init 0264ec36b6e92753156034389ef9cd7062535c66>:1(__init__)\n",
      "     2002    0.003    0.000    0.003    0.000 :0(bn_num_bytes)\n",
      "     2002    0.003    0.000    0.003    0.000 :0(BN_bn2bin)\n",
      "     3003    0.003    0.000    0.003    0.000 _weakrefset.py:70(__contains__)\n",
      "     2002    0.002    0.000    0.002    0.000 :0(ord)\n",
      "     1000    0.002    0.000    0.002    0.000 :0(BN_mul)\n",
      "       11    0.001    0.000    0.002    0.000 base58.py:73(b58decode)\n",
      "     1000    0.002    0.000    0.002    0.000 :0(BN_sub)\n",
      "     1025    0.001    0.000    0.001    0.000 :0(getattr)\n",
      "     1001    0.001    0.000    0.001    0.000 :0(pop)\n",
      "     1999    0.001    0.000    0.001    0.000 Nodes.py:105(identity)\n",
      "        5    0.000    0.000    0.001    0.000 encodings.py:34(pet2ascii)\n",
      "     1262    0.001    0.000    0.001    0.000 :0(append)\n",
      "     1002    0.001    0.000    0.001    0.000 <attrs generated init 63142d835fc3c6082ba9946c216283d20ed04ee1>:1(__init__)\n",
      "        1    0.000    0.000    0.001    0.001 state.py:34(build)\n",
      "     1000    0.001    0.000    0.001    0.000 :0(add)\n",
      "        1    0.000    0.000    0.001    0.001 params.py:55(public_export)\n",
      "     1000    0.001    0.000    0.001    0.000 <ipython-input-3-0f817e10bcb5>:13(<listcomp>)\n",
      "        7    0.000    0.000    0.001    0.000 base58.py:41(b58encode)\n",
      "        1    0.000    0.000    0.001    0.001 Chain.py:117(multi_add)\n",
      "     1000    0.001    0.000    0.001    0.000 state.py:132(__setitem__)\n",
      "        1    0.000    0.000    0.001    0.001 state.py:55(_sign_block)\n",
      "        1    0.000    0.000    0.001    0.001 state.py:161(validate)\n",
      "     1000    0.001    0.000    0.001    0.000 :0(update)\n",
      "        7    0.000    0.000    0.001    0.000 base58.py:61(b58decode_int)\n",
      "        7    0.000    0.000    0.001    0.000 base58.py:30(b58encode_int)\n",
      "      620    0.001    0.000    0.001    0.000 :0(divmod)\n",
      "        2    0.000    0.000    0.000    0.000 encodings.py:26(ascii2bytes)\n",
      "      359    0.000    0.000    0.000    0.000 :0(index)\n",
      "        4    0.000    0.000    0.000    0.000 ec.py:60(__init__)\n",
      "        1    0.000    0.000    0.000    0.000 sign.py:6(sign)\n",
      "        1    0.000    0.000    0.000    0.000 sign.py:16(verify_signature)\n",
      "        1    0.000    0.000    0.000    0.000 :0(setprofile)\n",
      "        1    0.000    0.000    0.000    0.000 ecdsa.py:101(do_ecdsa_verify)\n",
      "        2    0.000    0.000    0.000    0.000 encodings.py:18(bytes2ascii)\n",
      "        2    0.000    0.000    0.000    0.000 _funcs.py:10(asdict)\n",
      "        1    0.000    0.000    0.000    0.000 ecdsa.py:41(do_ecdsa_setup)\n",
      "        1    0.000    0.000    0.000    0.000 :0(ECDSA_do_verify)\n",
      "        4    0.000    0.000    0.000    0.000 :0(EC_GROUP_new_by_curve_name)\n",
      "        1    0.000    0.000    0.000    0.000 state.py:43(export)\n",
      "        4    0.000    0.000    0.000    0.000 Chain.py:42(hash)\n",
      "        1    0.000    0.000    0.000    0.000 :0(ECDSA_sign_setup)\n",
      "        4    0.000    0.000    0.000    0.000 :0(EC_GROUP_precompute_mult)\n",
      "        1    0.000    0.000    0.000    0.000 ecdsa.py:65(do_ecdsa_sign)\n",
      "        2    0.000    0.000    0.000    0.000 Chain.py:47(hid)\n",
      "        2    0.000    0.000    0.000    0.000 <attrs generated init 67d3106fe30369279b56f73021d9eb5de41b739e>:1(__init__)\n",
      "       13    0.000    0.000    0.000    0.000 _funcs.py:142(has)\n",
      "        5    0.000    0.000    0.000    0.000 _funcs.py:59(<genexpr>)\n",
      "       14    0.000    0.000    0.000    0.000 :0(lstrip)\n",
      "        1    0.000    0.000    0.000    0.000 state.py:31(<lambda>)\n",
      "        3    0.000    0.000    0.000    0.000 :0(EC_KEY_set_group)\n",
      "        4    0.000    0.000    0.000    0.000 ec.py:177(__del__)\n",
      "        2    0.000    0.000    0.000    0.000 _make.py:617(fields)\n",
      "        2    0.000    0.000    0.000    0.000 wrappers.py:66(__init__)\n",
      "        7    0.000    0.000    0.000    0.000 :0(items)\n",
      "        8    0.000    0.000    0.000    0.000 :0(get)\n",
      "        4    0.000    0.000    0.000    0.000 :0(EC_GROUP_free)\n",
      "        1    0.000    0.000    0.000    0.000 :0(ECDSA_do_sign_ex)\n",
      "        3    0.000    0.000    0.000    0.000 :0(EC_KEY_new)\n",
      "        1    0.000    0.000    0.000    0.000 state.py:39(from_dict)\n",
      "        6    0.000    0.000    0.000    0.000 :0(BN_copy)\n",
      "        1    0.000    0.000    0.000    0.000 :0(utcnow)\n",
      "        1    0.000    0.000    0.000    0.000 :0(EC_KEY_precompute_mult)\n",
      "        2    0.000    0.000    0.000    0.000 :0(EC_KEY_free)\n",
      "        7    0.000    0.000    0.000    0.000 base58.py:25(<lambda>)\n",
      "        2    0.000    0.000    0.000    0.000 _compat.py:78(isclass)\n",
      "        1    0.000    0.000    0.000    0.000 wrappers.py:72(root_hash)\n",
      "        2    0.000    0.000    0.000    0.000 :0(EC_KEY_set_private_key)\n",
      "        1    0.000    0.000    0.000    0.000 state.py:61(__init__)\n",
      "        2    0.000    0.000    0.000    0.000 :0(ECDSA_SIG_free)\n",
      "        1    0.000    0.000    0.000    0.000 :0(log)\n",
      "        2    0.000    0.000    0.000    0.000 Tree.py:6(__init__)\n",
      "        1    0.000    0.000    0.000    0.000 _compat.py:83(iteritems)\n",
      "        1    0.000    0.000    0.000    0.000 :0(ECDSA_SIG_new)\n",
      "        1    0.000    0.000    0.000    0.000 Chain.py:35(__init__)\n",
      "        1    0.000    0.000    0.000    0.000 :0(ceil)\n",
      "        1    0.000    0.000    0.000    0.000 :0(EC_KEY_set_public_key)\n",
      "        2    0.000    0.000    0.000    0.000 wrappers.py:26(__init__)\n",
      "        1    0.000    0.000    0.000    0.000 Chain.py:108(__init__)\n",
      "        2    0.000    0.000    0.000    0.000 Nodes.py:23(identity)\n",
      "        1    0.000    0.000    0.000    0.000 Tree.py:22(root)\n",
      "        0    0.000             0.000          profile:0(profiler)\n",
      "\n",
      "\n"
     ]
    }
   ],
   "source": [
    "profiler = PythonProfiler()\n",
    "profiler.runctx(\"simulate()\", globals(), locals())\n",
    "profiler.create_stats()\n",
    "\n",
    "profiler.print_stats(sort='cumtime')"
   ]
  }
 ],
 "metadata": {
  "kernelspec": {
   "display_name": "Python 3",
   "language": "python",
   "name": "python3"
  },
  "language_info": {
   "codemirror_mode": {
    "name": "ipython",
    "version": 3
   },
   "file_extension": ".py",
   "mimetype": "text/x-python",
   "name": "python",
   "nbconvert_exporter": "python",
   "pygments_lexer": "ipython3",
   "version": "3.5.2"
  }
 },
 "nbformat": 4,
 "nbformat_minor": 1
}
