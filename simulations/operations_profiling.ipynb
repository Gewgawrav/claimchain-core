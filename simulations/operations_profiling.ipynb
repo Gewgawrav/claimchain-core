{
 "cells": [
  {
   "cell_type": "code",
   "execution_count": 1,
   "metadata": {},
   "outputs": [],
   "source": [
    "import os\n",
    "import sys\n",
    "import random\n",
    "import pstats\n",
    "\n",
    "import pandas as pd\n",
    "import hippiehug\n",
    "\n",
    "sys.path.append('..')\n",
    "\n",
    "from claimchain import State, View, LocalParams\n",
    "from claimchain.utils.profiling import Profiler"
   ]
  },
  {
   "cell_type": "markdown",
   "metadata": {},
   "source": [
    "## Generating test data\n",
    "\n",
    "This simulates `nb_readers` (200 by default) readers, each with own set of cryptographic keys. Every reader gets a random **32 byte** label associated with them, and **1 Kb** randomly generated claim about them.\n",
    "\n",
    "The random capability matrix is generated: for each of the target readers _t_, `nb_caps_per_reader` (5 by default) other readers are randomly chosen. These are the ones that the reader _t_ will be able to access claims about, i.e. be included in _t_'s capability list.\n",
    "\n"
   ]
  },
  {
   "cell_type": "code",
   "execution_count": 2,
   "metadata": {
    "collapsed": true
   },
   "outputs": [],
   "source": [
    "def generate_test_data(nb_readers=200, nb_caps_per_reader=5):\n",
    "    # size = {32, 1024} - len({\"label_\", \"claim_\"})\n",
    "    labels = [b'label_' + os.urandom(32 - 6) for _ in range(nb_readers)]\n",
    "    claims = [b'claim_' + os.urandom(1024 - 6) for _ in range(nb_readers)]\n",
    "\n",
    "    params = [LocalParams.generate() for _ in range(nb_readers)]\n",
    "\n",
    "    reader_graph = {}\n",
    "    for reader_index in range(nb_readers):\n",
    "        cap = random.sample(range(nb_readers), nb_caps_per_reader)\n",
    "        reader_graph[reader_index] = cap\n",
    "\n",
    "    return reader_graph, labels, claims, params"
   ]
  },
  {
   "cell_type": "code",
   "execution_count": 3,
   "metadata": {},
   "outputs": [
    {
     "data": {
      "text/plain": [
       "200"
      ]
     },
     "execution_count": 3,
     "metadata": {},
     "output_type": "execute_result"
    }
   ],
   "source": [
    "reader_graph, labels, claims, params = generate_test_data()\n",
    "len(reader_graph)"
   ]
  },
  {
   "cell_type": "markdown",
   "metadata": {},
   "source": [
    "## Simulating the owner\n",
    "The owner builds a state consisting of the claims generated above, with the access capabilities as generated above. The state is committed to the chain."
   ]
  },
  {
   "cell_type": "code",
   "execution_count": 9,
   "metadata": {},
   "outputs": [],
   "source": [
    "def commit_claims(reader_graph, labels, claims, params):\n",
    "    owner_params = LocalParams.generate()\n",
    "    with owner_params.as_default():\n",
    "        state = State()\n",
    "        \n",
    "        # Add claims\n",
    "        for label, claim in zip(labels, claims):\n",
    "            state[label] = claim\n",
    "        \n",
    "        # Define the capability lists\n",
    "        for reader_index, cap_indexes in reader_graph.items():\n",
    "            reader_dh_pk = params[reader_index].dh.pk\n",
    "            cap_labels = [labels[cap_index] for cap_index in cap_indexes]\n",
    "            state.grant_access(reader_dh_pk, cap_labels)\n",
    "        \n",
    "        # Commit a bunch of times\n",
    "        chain = hippiehug.Chain()\n",
    "        state.commit(target_chain=chain)\n",
    "\n",
    "        return chain, state"
   ]
  },
  {
   "cell_type": "markdown",
   "metadata": {},
   "source": [
    "## Simulating the readers"
   ]
  },
  {
   "cell_type": "code",
   "execution_count": 5,
   "metadata": {
    "collapsed": true
   },
   "outputs": [],
   "source": [
    "def read_claims(chain, reader_graph, labels, claims, params):\n",
    "    # Go over all of the readers\n",
    "    for reader_index, caps_indexes in reader_graph.items():\n",
    "        reader_params = params[reader_index]\n",
    "        with reader_params.as_default():\n",
    "            view = View(chain)\n",
    "            # Retrieve each of the accessible labels\n",
    "            for cap_index in caps_indexes:\n",
    "                label = labels[cap_index]\n",
    "                read_claim = view[labels[cap_index]]\n",
    "                \n",
    "                # Check the value matches original to be sure\n",
    "                assert read_claim == claims[cap_index]"
   ]
  },
  {
   "cell_type": "markdown",
   "metadata": {},
   "source": [
    "## Measuring timings"
   ]
  },
  {
   "cell_type": "code",
   "execution_count": 6,
   "metadata": {},
   "outputs": [],
   "source": [
    "profiler = Profiler()\n",
    "with profiler.as_default():\n",
    "    # Commit claims\n",
    "    chain, state = commit_claims(reader_graph, labels, claims, params)\n",
    "    # Simulate readers\n",
    "    read_claims(chain, reader_graph, labels, claims, params)\n",
    "\n",
    "    stats = profiler.compute_stats()"
   ]
  },
  {
   "cell_type": "code",
   "execution_count": 7,
   "metadata": {},
   "outputs": [
    {
     "data": {
      "text/html": [
       "<div>\n",
       "<style>\n",
       "    .dataframe thead tr:only-child th {\n",
       "        text-align: right;\n",
       "    }\n",
       "\n",
       "    .dataframe thead th {\n",
       "        text-align: left;\n",
       "    }\n",
       "\n",
       "    .dataframe tbody tr th {\n",
       "        vertical-align: top;\n",
       "    }\n",
       "</style>\n",
       "<table border=\"1\" class=\"dataframe\">\n",
       "  <thead>\n",
       "    <tr style=\"text-align: right;\">\n",
       "      <th></th>\n",
       "      <th>avg</th>\n",
       "      <th>max</th>\n",
       "      <th>min</th>\n",
       "      <th>num</th>\n",
       "      <th>std</th>\n",
       "    </tr>\n",
       "  </thead>\n",
       "  <tbody>\n",
       "    <tr>\n",
       "      <th>encode_capability</th>\n",
       "      <td>0.152267</td>\n",
       "      <td>0.507593</td>\n",
       "      <td>0.133753</td>\n",
       "      <td>1000.0</td>\n",
       "      <td>0.037684</td>\n",
       "    </tr>\n",
       "    <tr>\n",
       "      <th>_lookup_capability</th>\n",
       "      <td>0.281503</td>\n",
       "      <td>0.753164</td>\n",
       "      <td>0.258923</td>\n",
       "      <td>1000.0</td>\n",
       "      <td>0.030383</td>\n",
       "    </tr>\n",
       "    <tr>\n",
       "      <th>encode_claim</th>\n",
       "      <td>1.659107</td>\n",
       "      <td>3.259659</td>\n",
       "      <td>1.202106</td>\n",
       "      <td>200.0</td>\n",
       "      <td>0.376042</td>\n",
       "    </tr>\n",
       "    <tr>\n",
       "      <th>decode_claim</th>\n",
       "      <td>2.522745</td>\n",
       "      <td>5.960226</td>\n",
       "      <td>2.071142</td>\n",
       "      <td>1000.0</td>\n",
       "      <td>0.253534</td>\n",
       "    </tr>\n",
       "    <tr>\n",
       "      <th>_lookup_claim</th>\n",
       "      <td>2.540730</td>\n",
       "      <td>6.030321</td>\n",
       "      <td>2.085447</td>\n",
       "      <td>1000.0</td>\n",
       "      <td>0.255710</td>\n",
       "    </tr>\n",
       "    <tr>\n",
       "      <th>_build_tree</th>\n",
       "      <td>85.764408</td>\n",
       "      <td>85.764408</td>\n",
       "      <td>85.764408</td>\n",
       "      <td>1.0</td>\n",
       "      <td>NaN</td>\n",
       "    </tr>\n",
       "  </tbody>\n",
       "</table>\n",
       "</div>"
      ],
      "text/plain": [
       "                          avg        max        min     num       std\n",
       "encode_capability    0.152267   0.507593   0.133753  1000.0  0.037684\n",
       "_lookup_capability   0.281503   0.753164   0.258923  1000.0  0.030383\n",
       "encode_claim         1.659107   3.259659   1.202106   200.0  0.376042\n",
       "decode_claim         2.522745   5.960226   2.071142  1000.0  0.253534\n",
       "_lookup_claim        2.540730   6.030321   2.085447  1000.0  0.255710\n",
       "_build_tree         85.764408  85.764408  85.764408     1.0       NaN"
      ]
     },
     "execution_count": 7,
     "metadata": {},
     "output_type": "execute_result"
    }
   ],
   "source": [
    "df = pd.DataFrame(stats)\n",
    "df = df.T\n",
    "stat_cols = ['avg', 'max', 'min', 'std']\n",
    "df[stat_cols] = df[stat_cols].apply(lambda value: value * 1000)  # milliseconds\n",
    "df.sort_values(by='avg')"
   ]
  }
 ],
 "metadata": {
  "kernelspec": {
   "display_name": "Python 3",
   "language": "python",
   "name": "python3"
  },
  "language_info": {
   "codemirror_mode": {
    "name": "ipython",
    "version": 3
   },
   "file_extension": ".py",
   "mimetype": "text/x-python",
   "name": "python",
   "nbconvert_exporter": "python",
   "pygments_lexer": "ipython3",
   "version": "3.5.2"
  }
 },
 "nbformat": 4,
 "nbformat_minor": 1
}
